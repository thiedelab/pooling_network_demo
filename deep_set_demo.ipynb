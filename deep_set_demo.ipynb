{
 "cells": [
  {
   "cell_type": "code",
   "execution_count": 102,
   "metadata": {},
   "outputs": [],
   "source": [
    "import torch"
   ]
  },
  {
   "cell_type": "code",
   "execution_count": 105,
   "metadata": {},
   "outputs": [],
   "source": [
    "class DeepSetDemo(torch.nn.Module):\n",
    "    def __init__(self, n_in: int, n_out: int = 1, n_hidden_channels: int = 64, pooling = 'sum', pooling_dim: int = -2):\n",
    "        super(DeepSetDemo, self).__init__()\n",
    "        self.fc1 = torch.nn.Linear(n_in, n_hidden_channels)\n",
    "        self.fc2 = torch.nn.Linear(n_hidden_channels, n_hidden_channels)\n",
    "        self.fc_out = torch.nn.Linear(n_hidden_channels, n_out)\n",
    "\n",
    "        if pooling == 'sum':\n",
    "            self.pooling = torch.sum\n",
    "        elif pooling == 'mean':\n",
    "            self.pooling = torch.mean\n",
    "        elif pooling == 'max':\n",
    "            self.pooling = torch.max\n",
    "        else:\n",
    "            raise ValueError(f\"Pooling method {pooling} not supported\") \n",
    "        \n",
    "        self.pooling_dim = pooling_dim\n",
    "\n",
    "    def forward(self, x: torch.Tensor) -> torch.Tensor:\n",
    "        x = torch.relu(self.fc1(x))\n",
    "        x = self.fc2(x)\n",
    "        x = self.pooling(x, dim=self.pooling_dim)\n",
    "        x = self.fc_out(x)\n",
    "        return x\n"
   ]
  },
  {
   "cell_type": "code",
   "execution_count": 109,
   "metadata": {},
   "outputs": [
    {
     "name": "stdout",
     "output_type": "stream",
     "text": [
      "torch.Size([20, 1])\n"
     ]
    }
   ],
   "source": [
    "model = DeepSetDemo(n_in = 4, n_out = 1, n_hidden_channels=64, pooling='sum', pooling_dim=-2)\n",
    "\n",
    "# 20 sequences of 128 elements with 4 features each\n",
    "x = torch.randn(20, 70, 4)\n",
    "\n",
    "y = model(x)\n",
    "print(y.shape)"
   ]
  },
  {
   "cell_type": "code",
   "execution_count": 110,
   "metadata": {},
   "outputs": [],
   "source": [
    "class DeepSetTransformerPooling(torch.nn.Module):\n",
    "    def __init__(self, n_in: int, n_out: int = 1, n_hidden_channels: int = 64, num_heads=8):\n",
    "        super(DeepSetTransformerPooling, self).__init__()\n",
    "        self.fc1 = torch.nn.Linear(n_in, n_hidden_channels)\n",
    "\n",
    "        # For pooling\n",
    "        self.query = torch.nn.Parameter(torch.randn(1, 1, n_hidden_channels))\n",
    "        self.pooling = torch.nn.MultiheadAttention(n_hidden_channels, num_heads=num_heads, batch_first=True)\n",
    "\n",
    "        self.fc_out = torch.nn.Linear(n_hidden_channels, n_out)\n",
    "        \n",
    "\n",
    "    def forward(self, x: torch.Tensor) -> torch.Tensor:\n",
    "        x = torch.relu(self.fc1(x))\n",
    "        q = self.query.expand(x.shape[0], -1, -1)\n",
    "        x = self.pooling(q, x, x)[0]\n",
    "        x = self.fc_out(x)\n",
    "        return x.squeeze(1)\n"
   ]
  },
  {
   "cell_type": "code",
   "execution_count": 111,
   "metadata": {},
   "outputs": [],
   "source": [
    "model = DeepSetTransformerPooling(n_in = 4, n_out = 2, n_hidden_channels=64, num_heads=8)"
   ]
  },
  {
   "cell_type": "code",
   "execution_count": 113,
   "metadata": {},
   "outputs": [
    {
     "name": "stdout",
     "output_type": "stream",
     "text": [
      "torch.Size([20, 2])\n"
     ]
    }
   ],
   "source": [
    "y = model(x)\n",
    "print(y.shape)\n"
   ]
  },
  {
   "cell_type": "code",
   "execution_count": null,
   "metadata": {},
   "outputs": [],
   "source": []
  }
 ],
 "metadata": {
  "kernelspec": {
   "display_name": "cryotorch",
   "language": "python",
   "name": "python3"
  },
  "language_info": {
   "codemirror_mode": {
    "name": "ipython",
    "version": 3
   },
   "file_extension": ".py",
   "mimetype": "text/x-python",
   "name": "python",
   "nbconvert_exporter": "python",
   "pygments_lexer": "ipython3",
   "version": "3.10.13"
  }
 },
 "nbformat": 4,
 "nbformat_minor": 2
}
